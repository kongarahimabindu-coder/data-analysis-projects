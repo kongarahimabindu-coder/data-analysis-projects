{
 "cells": [
  {
   "cell_type": "markdown",
   "metadata": {},
   "source": [
    "# SQL Part 3 Studio\n",
    "\n",
    "Let's practice your SQL querying skills! For each question, work along in the notebook, adding your query and answering the questions.\n",
    "\n",
    "## The Dataset\n",
    "\n",
    "We will be using the Goodbooks-10k dataset from the exercises in the prep work. Feel free reference your previous notebooks.\n",
    "\n",
    "1. The dataset can be found here: [goodbooks-10k](https://www.kaggle.com/zygmunt/goodbooks-10k)\n",
    "1. You can access `BooksDB` in the LaunchCode server.\n",
    "\n",
    "## Business Issue\n",
    "\n",
    "You are an employee at a small independent bookstore and you have been tasked with increasing sales.  You decide to use `BooksDB` to find books and themes to highlight in fun promotions throughout each month and/or season.  We will be starting with March and then you will have a chance to explore another month of your choosing.  We want to come up with a list of promotions to run each month.  If you are looking for ideas, here are some resources on different holidays:\n",
    "\n",
    "- [https://www.calendarr.com/united-states/calendar-2022/](https://www.calendarr.com/united-states/calendar-2022/)\n",
    "- [https://www.holidayinsights.com/moreholidays/](https://www.holidayinsights.com/moreholidays/)\n",
    "    - Click on a month and it will take you to a more detailed page"
   ]
  },
  {
   "cell_type": "markdown",
   "metadata": {},
   "source": [
    "## Part 1:  March - Women's History Month, National Pie Day (3/14), St. Patrick's Day (3/17), Season - Spring"
   ]
  },
  {
   "cell_type": "markdown",
   "metadata": {},
   "source": [
    "### Event 1: Women's History Month\n",
    "\n",
    "Highlight popular women writers based on ratings from `BooksDB` by writing a query that returns `tag_id`, the number of times each `tag_id` is used and the `tag_name`. Use the `GROUP BY` and `HAVING` clause to narrow your focus and try multiple keywords, such as \"woman\" and \"female\"."
   ]
  },
  {
   "cell_type": "code",
   "execution_count": null,
   "metadata": {
    "vscode": {
     "languageId": "sql"
    }
   },
   "outputs": [],
   "source": [
    "SELECT t.tag_id, SUM(bt.[count]) AS tag_count, t.tag_name\n",
    "FROM BooksDB.dbo.books AS b\n",
    "INNER JOIN BooksDB.dbo.book_tags AS bt\n",
    "ON bt.goodreads_book_id = b.best_book_id\n",
    "INNER JOIN BooksDB.dbo.tags AS t\n",
    "ON bt.tag_id = t.tag_id\n",
    "WHERE t.tag_name LIKE '%author-female%' OR t.tag_name LIKE '%female-writer%' OR t.tag_name LIKE '%female-author%' \n",
    "OR t.tag_name LIKE '%female-authors%' OR t.tag_name LIKE '%female-genre-authors%' \n",
    "OR t.tag_name LIKE '%important-female-authors%' OR t.tag_name LIKE '%woman-author%'  OR t.tag_name LIKE '%woman-trans-agender-authors%' \n",
    "GROUP BY t.tag_id,t.tag_name\n",
    "HAVING AVG(b.average_rating) > 3.8"
   ]
  },
  {
   "cell_type": "markdown",
   "metadata": {},
   "source": [
    "### Event 2: Choose another event from March/Spring\n",
    "\n",
    "Write a query to return authors, titles, ratings, and `tag_id` that you would want to promote during your chosen event."
   ]
  },
  {
   "cell_type": "code",
   "execution_count": null,
   "metadata": {
    "vscode": {
     "languageId": "sql"
    }
   },
   "outputs": [],
   "source": [
    "SELECT b.authors, b.title, b.average_rating, bt.tag_id\n",
    "FROM BooksDB.dbo.books AS b\n",
    "INNER JOIN BooksDB.dbo.book_tags AS bt\n",
    "ON b.best_book_id = bt.goodreads_book_id\n",
    "INNER JOIN BooksDB.dbo.tags AS t\n",
    "ON bt.tag_id = t.tag_id\n",
    "WHERE t.tag_name LIKE '%spring%' OR t.tag_name LIKE '%march%'\n",
    "ORDER BY b.average_rating DESC"
   ]
  },
  {
   "cell_type": "markdown",
   "metadata": {},
   "source": [
    "Record your thoughts about why you wrote the query the way you did."
   ]
  },
  {
   "cell_type": "markdown",
   "metadata": {},
   "source": [
    "# Part 2: Choose Another Month\n",
    "\n",
    "Choose another month and plan at least 2 events / promotions and answer the following questions:\n",
    "1. Which month did you choose? august\n",
    "1. What 2 events / promotions are you highlighting? 1. Back to schools , 2. Reading challenge"
   ]
  },
  {
   "cell_type": "markdown",
   "metadata": {},
   "source": [
    "# Part 3: Summarize your Work\n",
    "\n",
    "For each event write at least one query that joins any two tables in `BooksDB` to support your choice and record you thoughts as to why you used the paticlular query. At least one of your queries needs to include a `HAVING` clause."
   ]
  },
  {
   "cell_type": "code",
   "execution_count": null,
   "metadata": {
    "vscode": {
     "languageId": "sql"
    }
   },
   "outputs": [],
   "source": [
    "SELECT b.title,SUM(bt.count) AS tag_count\n",
    "FROM BooksDB.dbo.books AS b\n",
    "INNER JOIN BooksDB.dbo.book_tags AS bt ON b.best_book_id = bt.goodreads_book_id\n",
    "INNER JOIN BooksDB.DBO.tags AS t ON bt.tag_id = t.tag_id\n",
    "WHERE t.tag_name LIKE '%school%'\n",
    "GROUP BY b.title\n",
    "ORDER BY tag_count DESC"
   ]
  },
  {
   "cell_type": "markdown",
   "metadata": {},
   "source": [
    "### Summarize Event 1\n",
    "\n",
    "For the Back to School event in August, I used a query that joins the books, book_tags, and tags tables to find books tagged with the word school, This helped me find the most popular school-related books."
   ]
  },
  {
   "cell_type": "code",
   "execution_count": null,
   "metadata": {
    "vscode": {
     "languageId": "sql"
    }
   },
   "outputs": [],
   "source": [
    "SELECT b.title, AVG(r.rating) AS avg_rating\n",
    "FROM BooksDB.dbo.books AS b\n",
    "INNER JOIN BooksDB.dbo.ratings AS r \n",
    "ON b.book_id = r.book_id\n",
    "INNER JOIN BooksDB.dbo.book_tags AS bt \n",
    "ON b.best_book_id = bt.goodreads_book_id\n",
    "INNER JOIN BooksDB.dbo.tags AS t \n",
    "ON bt.tag_id = t.tag_id\n",
    "WHERE t.tag_name LIKE '%reading%' OR t.tag_name LIKE '%challenge%'\n",
    "GROUP BY b.title\n",
    "HAVING AVG(r.rating) > 3\n",
    "ORDER BY avg_rating DESC"
   ]
  },
  {
   "cell_type": "markdown",
   "metadata": {},
   "source": [
    "### Summarize Event 2\n",
    "\n",
    "For the Reading Challenge I used a query that joins several tables and includes a HAVING clause. It finds books tagged with reading or challenge that have an average rating above 3."
   ]
  }
 ],
 "metadata": {
  "language_info": {
   "name": "python"
  }
 },
 "nbformat": 4,
 "nbformat_minor": 2
}
