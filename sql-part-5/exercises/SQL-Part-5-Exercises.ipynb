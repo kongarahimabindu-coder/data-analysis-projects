{
 "cells": [
  {
   "cell_type": "markdown",
   "metadata": {},
   "source": [
    "# Exercises: Creating, Updating, and Destroying Objects\n",
    "\n",
    "For the exercises, you will be working with objects and data you create. Before opening this notebook, make sure that you have set up the new connection to the server and that you have located the database and your schema.\n",
    "\n",
    "## Object Creation\n",
    "\n",
    "Before coding, think of three things you want to make. These could be coding projects, new recipes, or planned projects for a woodworking hobby. Brainstorm the appropriate column names and data types as well.\n",
    "\n",
    "Create a table under your schema called `planned_makes`."
   ]
  },
  {
   "cell_type": "code",
   "execution_count": null,
   "metadata": {
    "vscode": {
     "languageId": "sql"
    }
   },
   "outputs": [],
   "source": [
    "CREATE TABLE Sep2025JunkDB.himabindu_kongara.planned_makes(\n",
    "    project_id INT PRIMARY KEY,\n",
    "    project_name VARCHAR(50),\n",
    "    goal VARCHAR(255),\n",
    "    programming_language VARCHAR(30),\n",
    "    difficulty_level VARCHAR(20),\n",
    "    status VARCHAR(20)\n",
    ");"
   ]
  },
  {
   "cell_type": "markdown",
   "metadata": {},
   "source": [
    "Add three rows to your table that are your planned makes."
   ]
  },
  {
   "cell_type": "code",
   "execution_count": null,
   "metadata": {
    "vscode": {
     "languageId": "sql"
    }
   },
   "outputs": [],
   "source": [
    "INSERT INTO Sep2025JunkDB.himabindu_kongara.planned_makes(project_id, project_name, goal, programming_language, difficulty_level, status)\n",
    "VALUES (1, 'Budget Tracker', 'Create an app to manage personal finances', 'Python', 'Medium', 'In Progress');\n",
    "\n",
    "INSERT INTO Sep2025JunkDB.himabindu_kongara.planned_makes(project_id, project_name, goal, programming_language, difficulty_level, status)\n",
    "VALUES (2, 'Fitness', 'Develop a mobile app to track workouts', 'Kotlin', 'Hard', 'Not Started');\n",
    "\n",
    "INSERT INTO Sep2025JunkDB.himabindu_kongara.planned_makes(project_id, project_name, goal, programming_language, difficulty_level, status)\n",
    "VALUES (3, 'Portfolio Generator', 'Build a tool that auto-generates portfolio websites', 'JavaScript', 'Easy', 'Completed');"
   ]
  },
  {
   "cell_type": "markdown",
   "metadata": {},
   "source": [
    "## Update a Row\n",
    "\n",
    "Change different values in one of your three rows."
   ]
  },
  {
   "cell_type": "code",
   "execution_count": null,
   "metadata": {
    "vscode": {
     "languageId": "sql"
    }
   },
   "outputs": [],
   "source": [
    "UPDATE Sep2025JunkDB.himabindu_kongara.planned_makes\n",
    "SET project_name = 'Visiob board', goal = 'To clarify and visualize goals and dreams to stay motivated and focused on achieving them',\n",
    "                    programming_language = 'HTML and CSS', difficulty_level = 'Medium', status = 'Started'\n",
    "WHERE project_id = 2"
   ]
  },
  {
   "cell_type": "markdown",
   "metadata": {},
   "source": [
    "## Delete a Row\n",
    "\n",
    "Delete one of the rows from your table."
   ]
  },
  {
   "cell_type": "code",
   "execution_count": null,
   "metadata": {
    "vscode": {
     "languageId": "sql"
    }
   },
   "outputs": [],
   "source": [
    "DELETE FROM Sep2025JunkDB.himabindu_kongara.planned_makes\n",
    "WHERE project_id = 3\n"
   ]
  },
  {
   "cell_type": "markdown",
   "metadata": {},
   "source": [
    "## Drop the Table\n",
    "\n",
    "While this has been fun, it is time to drop the table!"
   ]
  },
  {
   "cell_type": "code",
   "execution_count": null,
   "metadata": {
    "vscode": {
     "languageId": "sql"
    }
   },
   "outputs": [],
   "source": [
    "DROP TABLE Sep2025JunkDB.himabindu_kongara.planned_makes"
   ]
  }
 ],
 "metadata": {
  "language_info": {
   "name": "python"
  }
 },
 "nbformat": 4,
 "nbformat_minor": 2
}
